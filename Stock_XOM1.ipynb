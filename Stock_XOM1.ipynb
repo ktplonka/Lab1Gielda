{
  "nbformat": 4,
  "nbformat_minor": 0,
  "metadata": {
    "colab": {
      "name": "Stock_XOM1.ipynb",
      "provenance": [],
      "collapsed_sections": [],
      "toc_visible": true,
      "include_colab_link": true
    },
    "kernelspec": {
      "display_name": "Python 3",
      "language": "python",
      "name": "python3"
    },
    "language_info": {
      "codemirror_mode": {
        "name": "ipython",
        "version": 3
      },
      "file_extension": ".py",
      "mimetype": "text/x-python",
      "name": "python",
      "nbconvert_exporter": "python",
      "pygments_lexer": "ipython3",
      "version": "3.7.8"
    }
  },
  "cells": [
    {
      "cell_type": "markdown",
      "metadata": {
        "id": "view-in-github",
        "colab_type": "text"
      },
      "source": [
        "<a href=\"https://colab.research.google.com/github/ktplonka/Lab1Gielda/blob/main/Stock_XOM1.ipynb\" target=\"_parent\"><img src=\"https://colab.research.google.com/assets/colab-badge.svg\" alt=\"Open In Colab\"/></a>"
      ]
    },
    {
      "cell_type": "code",
      "metadata": {
        "id": "1A3c2tpNTgeg"
      },
      "source": [
        "import pandas as pd\n",
        "import matplotlib.pyplot as plt\n",
        "from scipy.stats import norm\n",
        "import statistics as stats\n",
        "import numpy as np\n",
        "from scipy.stats import kurtosis, skew\n",
        "from statsmodels.graphics import tsaplots\n",
        "import io"
      ],
      "execution_count": null,
      "outputs": []
    },
    {
      "cell_type": "markdown",
      "metadata": {
        "id": "xnGI66Dmc-vj"
      },
      "source": [
        "Laboratorium\n",
        "Temat 1\n",
        "\n",
        "1. Pobranie danych giełdowych np. https://finance.yahoo.com/?guccounter=1\n",
        "2. Stworzenie wykresu pobranych danych.\n",
        "3. Obliczenie logarytmicznych stóp zwrotu pobranych danych oraz stworzenie ich wykresu.\n",
        "4. Znormalizowanie szeregu stóp zwrotu (średnia równa 0 i odchylenie standardowe 1),\n",
        "5. Wyrysowanie danych.\n",
        "\n",
        "Temat 2\n",
        "1. Analiza danych z Tematu 1.\n",
        "-Policzenie rozkładu danych.\n",
        "\n",
        "-Analiza rozkładu\n",
        "\n",
        "-Obliczenie funkcji autokorelacji.\n",
        "\n",
        "-Policzenie funkcji autokorelacji dla zmienności sygnału (modalna? sygnału)\n",
        "\n",
        "-Analiza wygenerowanych danych o rozkładzie normalnym.\n",
        "\n",
        "2. Analogiczne obliczenia jak w punkcie 1.\n"
      ]
    },
    {
      "cell_type": "markdown",
      "metadata": {
        "id": "pCgm3duZc-vj"
      },
      "source": [
        "# 1. Pobranie danych giełdowych \n",
        "\n",
        "Przeanalizowane zostały dane firmy ExxonMobil.\n",
        "ExxonMobil to przedsiębiorstwo naftowo-gazowe (poszukiwanie nowych złóż, eksploatacja i wydobycie, rafinacja), które jest największą na świecie spółką notowaną na giełdzie."
      ]
    },
    {
      "cell_type": "markdown",
      "metadata": {
        "id": "wh_nXlYWXLEg"
      },
      "source": [
        "# Wczytanie pliku z danymi"
      ]
    },
    {
      "cell_type": "markdown",
      "metadata": {
        "id": "MgK9nTWOc-vj"
      },
      "source": [
        "Ilość wierszy"
      ]
    },
    {
      "cell_type": "code",
      "metadata": {
        "colab": {
          "base_uri": "https://localhost:8080/",
          "height": 431
        },
        "id": "9a9sfEjMXOR5",
        "outputId": "c0a26908-8b4f-4773-dac5-d8821918560b"
      },
      "source": [
        "df = pd.read_csv(\"XOM.csv\")\n",
        "\n",
        "len(df.index)"
      ],
      "execution_count": null,
      "outputs": [
        {
          "output_type": "execute_result",
          "data": {
            "text/plain": [
              "14825"
            ]
          },
          "metadata": {
            "tags": []
          },
          "execution_count": 2
        }
      ]
    },
    {
      "cell_type": "markdown",
      "metadata": {
        "id": "Z0FgGqPtc-vl"
      },
      "source": [
        "Format danych"
      ]
    },
    {
      "cell_type": "code",
      "metadata": {
        "id": "Dp4zxDZPc-vl",
        "outputId": "ae2d4280-a765-4c63-e5dc-437181181432"
      },
      "source": [
        "df.head()"
      ],
      "execution_count": null,
      "outputs": [
        {
          "output_type": "execute_result",
          "data": {
            "text/html": [
              "<div>\n",
              "<style scoped>\n",
              "    .dataframe tbody tr th:only-of-type {\n",
              "        vertical-align: middle;\n",
              "    }\n",
              "\n",
              "    .dataframe tbody tr th {\n",
              "        vertical-align: top;\n",
              "    }\n",
              "\n",
              "    .dataframe thead th {\n",
              "        text-align: right;\n",
              "    }\n",
              "</style>\n",
              "<table border=\"1\" class=\"dataframe\">\n",
              "  <thead>\n",
              "    <tr style=\"text-align: right;\">\n",
              "      <th></th>\n",
              "      <th>Date</th>\n",
              "      <th>Open</th>\n",
              "      <th>High</th>\n",
              "      <th>Low</th>\n",
              "      <th>Close</th>\n",
              "      <th>Adj Close</th>\n",
              "      <th>Volume</th>\n",
              "    </tr>\n",
              "  </thead>\n",
              "  <tbody>\n",
              "    <tr>\n",
              "      <th>0</th>\n",
              "      <td>1962-01-02</td>\n",
              "      <td>0.0</td>\n",
              "      <td>1.589844</td>\n",
              "      <td>1.578125</td>\n",
              "      <td>1.578125</td>\n",
              "      <td>0.108173</td>\n",
              "      <td>902400</td>\n",
              "    </tr>\n",
              "    <tr>\n",
              "      <th>1</th>\n",
              "      <td>1962-01-03</td>\n",
              "      <td>0.0</td>\n",
              "      <td>1.601563</td>\n",
              "      <td>1.578125</td>\n",
              "      <td>1.601563</td>\n",
              "      <td>0.109779</td>\n",
              "      <td>1200000</td>\n",
              "    </tr>\n",
              "    <tr>\n",
              "      <th>2</th>\n",
              "      <td>1962-01-04</td>\n",
              "      <td>0.0</td>\n",
              "      <td>1.613281</td>\n",
              "      <td>1.597656</td>\n",
              "      <td>1.605469</td>\n",
              "      <td>0.110047</td>\n",
              "      <td>1088000</td>\n",
              "    </tr>\n",
              "    <tr>\n",
              "      <th>3</th>\n",
              "      <td>1962-01-05</td>\n",
              "      <td>0.0</td>\n",
              "      <td>1.613281</td>\n",
              "      <td>1.566406</td>\n",
              "      <td>1.570313</td>\n",
              "      <td>0.107637</td>\n",
              "      <td>1222400</td>\n",
              "    </tr>\n",
              "    <tr>\n",
              "      <th>4</th>\n",
              "      <td>1962-01-08</td>\n",
              "      <td>0.0</td>\n",
              "      <td>1.582031</td>\n",
              "      <td>1.546875</td>\n",
              "      <td>1.566406</td>\n",
              "      <td>0.107369</td>\n",
              "      <td>1388800</td>\n",
              "    </tr>\n",
              "  </tbody>\n",
              "</table>\n",
              "</div>"
            ],
            "text/plain": [
              "         Date  Open      High       Low     Close  Adj Close   Volume\n",
              "0  1962-01-02   0.0  1.589844  1.578125  1.578125   0.108173   902400\n",
              "1  1962-01-03   0.0  1.601563  1.578125  1.601563   0.109779  1200000\n",
              "2  1962-01-04   0.0  1.613281  1.597656  1.605469   0.110047  1088000\n",
              "3  1962-01-05   0.0  1.613281  1.566406  1.570313   0.107637  1222400\n",
              "4  1962-01-08   0.0  1.582031  1.546875  1.566406   0.107369  1388800"
            ]
          },
          "metadata": {
            "tags": []
          },
          "execution_count": 3
        }
      ]
    },
    {
      "cell_type": "markdown",
      "metadata": {
        "id": "iKL3dhYmYVbl"
      },
      "source": [
        "# 2. Stworzenie wykresu pobranych danych\n",
        "\n",
        "\n"
      ]
    },
    {
      "cell_type": "code",
      "metadata": {
        "id": "8f6RLlAlY-KU",
        "outputId": "f7f3d6ea-1109-4f78-9302-ad94ef99b0c5"
      },
      "source": [
        "df['Close'].head()"
      ],
      "execution_count": null,
      "outputs": [
        {
          "output_type": "execute_result",
          "data": {
            "text/plain": [
              "0    1.578125\n",
              "1    1.601563\n",
              "2    1.605469\n",
              "3    1.570313\n",
              "4    1.566406\n",
              "Name: Close, dtype: float64"
            ]
          },
          "metadata": {
            "tags": []
          },
          "execution_count": 4
        }
      ]
    },
    {
      "cell_type": "code",
      "metadata": {
        "id": "r2FIzkpZdKX3",
        "outputId": "6a53e20a-2c3e-429d-dbbd-683e5a5cef5b"
      },
      "source": [
        "x_date = df['Date']\n",
        "y_close = df['Close']\n",
        "fig = plt.figure(figsize=(20,6))\n",
        "plt.xlabel('Data')\n",
        "plt.xticks([])\n",
        "plt.ylabel('Kurs')\n",
        "plt.title('Wykres danych')\n",
        "plt.plot(x_date,y_close)"
      ],
      "execution_count": null,
      "outputs": [
        {
          "output_type": "execute_result",
          "data": {
            "text/plain": [
              "[<matplotlib.lines.Line2D at 0x1724c468508>]"
            ]
          },
          "metadata": {
            "tags": []
          },
          "execution_count": 5
        },
        {
          "output_type": "display_data",
          "data": {
            "image/png": "[encoded data removed]",
            "text/plain": [
              "<Figure size 1440x432 with 1 Axes>"
            ]
          },
          "metadata": {
            "tags": [],
            "needs_background": "light"
          }
        }
      ]
    },
    {
      "cell_type": "markdown",
      "metadata": {
        "id": "CidtX7tRckIg"
      },
      "source": [
        "# 3. Obliczenie logarytmicznych stóp zwrotu pobranych danych oraz stworzenie ich wykresu."
      ]
    },
    {
      "cell_type": "markdown",
      "metadata": {
        "id": "Gowv1Ha5c-vm"
      },
      "source": [
        "Do obliczenia logarytmicznych stóp zwrotu stosuje się wzór:\n",
        "log(𝑋𝑡)-log(𝑋𝑡−1) ≈ (𝑋𝑡−𝑋𝑡−1) / 𝑋𝑡\n",
        "gdzie, \n",
        "X - wartośc kursu\n",
        "t - dana w czasie"
      ]
    },
    {
      "cell_type": "code",
      "metadata": {
        "id": "C-TuGNolbfBI"
      },
      "source": [
        "df['return'] = np.log(df.Close) - np.log(df.Close.shift(1))"
      ],
      "execution_count": null,
      "outputs": []
    },
    {
      "cell_type": "code",
      "metadata": {
        "id": "cV-xoF87fFTy",
        "outputId": "e3e88e7e-5255-453a-d496-c645aaeb96fb"
      },
      "source": [
        "x_date = df['Date']\n",
        "y_log = df['return']\n",
        "\n",
        "fig = plt.figure(figsize=(20,6))\n",
        "plt.xlabel('Data')\n",
        "plt.xticks([])\n",
        "plt.ylabel('Logarytmiczna stopa zwrotu')\n",
        "plt.plot(x_date,y_log)"
      ],
      "execution_count": null,
      "outputs": [
        {
          "output_type": "execute_result",
          "data": {
            "text/plain": [
              "[<matplotlib.lines.Line2D at 0x1724c494dc8>]"
            ]
          },
          "metadata": {
            "tags": []
          },
          "execution_count": 7
        },
        {
          "output_type": "display_data",
          "data": {
            "image/png": "[encoded data removed]",
            "text/plain": [
              "<Figure size 1440x432 with 1 Axes>"
            ]
          },
          "metadata": {
            "tags": [],
            "needs_background": "light"
          }
        }
      ]
    },
    {
      "cell_type": "markdown",
      "metadata": {
        "id": "S3o20hnWc-vm"
      },
      "source": [
        "# 4. Znormalizowanie szeregu stóp zwrotu (średnia równa 0 i odchylenie standardowe 1)"
      ]
    },
    {
      "cell_type": "markdown",
      "metadata": {
        "id": "mTzCR910hPK7"
      },
      "source": [
        "Normalizacja:\n",
        "Obliczenie średniej i odchylenia standardowego"
      ]
    },
    {
      "cell_type": "code",
      "metadata": {
        "id": "81r3f4UZllOT",
        "outputId": "399a3acd-83b6-4f66-fdf7-2140a283f06a"
      },
      "source": [
        "mean = df['return'].mean()\n",
        "std = df['return'].std()\n",
        "normalized_df=(df-df.mean())/df.std()\n",
        "normalized_df['return']\n",
        "np.std(normalized_df)"
      ],
      "execution_count": null,
      "outputs": [
        {
          "output_type": "execute_result",
          "data": {
            "text/plain": [
              "Adj Close    0.999966\n",
              "Close        0.999966\n",
              "Date              NaN\n",
              "High         0.999966\n",
              "Low          0.999966\n",
              "Open         0.999966\n",
              "Volume       0.999966\n",
              "return       0.999966\n",
              "dtype: float64"
            ]
          },
          "metadata": {
            "tags": []
          },
          "execution_count": 8
        }
      ]
    },
    {
      "cell_type": "markdown",
      "metadata": {
        "id": "vJqcyjwSxOFZ"
      },
      "source": [
        "Histogram"
      ]
    },
    {
      "cell_type": "code",
      "metadata": {
        "id": "ntMcJ-h5xPYp",
        "outputId": "26514541-ca1c-4b6c-f198-17cce9fcd956"
      },
      "source": [
        "np_array = normalized_df['return'].to_numpy()\n",
        "np_array = np_array[np.logical_not(np.isnan(np_array))]\n",
        "plt.hist(np_array, bins='auto')\n",
        "plt.show()"
      ],
      "execution_count": null,
      "outputs": [
        {
          "output_type": "display_data",
          "data": {
            "image/png": "[encoded data removed]",
            "text/plain": [
              "<Figure size 432x288 with 1 Axes>"
            ]
          },
          "metadata": {
            "tags": [],
            "needs_background": "light"
          }
        }
      ]
    },
    {
      "cell_type": "markdown",
      "metadata": {
        "id": "II84CoM9c-vn"
      },
      "source": [
        "Rozkład statystyczny PDF dla danych znormalizowanych"
      ]
    },
    {
      "cell_type": "code",
      "metadata": {
        "id": "x93e1U7sc-vn",
        "outputId": "606ee1e3-1eef-4450-ce2b-9a203de9adb0"
      },
      "source": [
        "np_array.sort()\n",
        "hmean = np.mean(np_array)\n",
        "hstd = np.std(np_array)\n",
        "pdf = norm.pdf(np_array, hmean, hstd)\n",
        "plt.plot(np_array, pdf) "
      ],
      "execution_count": null,
      "outputs": [
        {
          "output_type": "execute_result",
          "data": {
            "text/plain": [
              "[<matplotlib.lines.Line2D at 0x1724c468f48>]"
            ]
          },
          "metadata": {
            "tags": []
          },
          "execution_count": 10
        },
        {
          "output_type": "display_data",
          "data": {
            "image/png": "[encoded data removed]",
            "text/plain": [
              "<Figure size 432x288 with 1 Axes>"
            ]
          },
          "metadata": {
            "tags": [],
            "needs_background": "light"
          }
        }
      ]
    },
    {
      "cell_type": "markdown",
      "metadata": {
        "id": "lZ0oXHOzc-vn"
      },
      "source": [
        "Rozkład statystyczny danych znormalizowanych i rzeczywistych"
      ]
    },
    {
      "cell_type": "code",
      "metadata": {
        "id": "ontFLfYZWIw0",
        "outputId": "e0449297-883a-4dc8-d27f-d1aab7ad5efc"
      },
      "source": [
        "non_normal = df['return'].to_numpy()\n",
        "non_normal = non_normal[np.logical_not(np.isnan(non_normal))]\n",
        "non_normal.sort()\n",
        "\n",
        "pdf_normalized = norm.pdf(np_array, hmean, hstd)\n",
        "pdf_non_normal = norm.pdf(non_normal, non_normal.mean(), non_normal.std())\n",
        "\n",
        "p1 = plt.plot(non_normal, pdf_non_normal, color='blue') \n",
        "p2 = plt.plot(np_array, pdf_normalized, color='red') \n",
        "\n",
        "plt.show()"
      ],
      "execution_count": null,
      "outputs": [
        {
          "output_type": "display_data",
          "data": {
            "image/png": "[encoded data removed]",
            "text/plain": [
              "<Figure size 432x288 with 1 Axes>"
            ]
          },
          "metadata": {
            "tags": [],
            "needs_background": "light"
          }
        }
      ]
    },
    {
      "cell_type": "markdown",
      "metadata": {
        "id": "GL509wUvc-vo"
      },
      "source": [
        "Cumulative distribution CDF"
      ]
    },
    {
      "cell_type": "code",
      "metadata": {
        "id": "JUwQfn6zc-vo",
        "outputId": "f67afb8c-5ffd-4490-af01-ee7c3a7b99bc"
      },
      "source": [
        "y = norm.cdf(np_array)\n",
        "plt.plot(np_array, y)"
      ],
      "execution_count": null,
      "outputs": [
        {
          "output_type": "execute_result",
          "data": {
            "text/plain": [
              "[<matplotlib.lines.Line2D at 0x17281b0ef48>]"
            ]
          },
          "metadata": {
            "tags": []
          },
          "execution_count": 12
        },
        {
          "output_type": "display_data",
          "data": {
            "image/png": "[encoded data removed]",
            "text/plain": [
              "<Figure size 432x288 with 1 Axes>"
            ]
          },
          "metadata": {
            "tags": [],
            "needs_background": "light"
          }
        }
      ]
    },
    {
      "cell_type": "markdown",
      "metadata": {
        "id": "kMB_61D5c-vp"
      },
      "source": [
        "# Temat 2 Analiza korelacji"
      ]
    },
    {
      "cell_type": "markdown",
      "metadata": {
        "id": "zSu-177Nc-vp"
      },
      "source": [
        "# a) Policzenie rozkładu danych"
      ]
    },
    {
      "cell_type": "markdown",
      "metadata": {
        "id": "7rQ-Qcrzc-vp"
      },
      "source": [
        "Funkcja korelacji\n",
        "Wartość +1 to całkowita dodatnia korelacja liniowa, 0 to brak korelacji liniowej, a −1 to całkowita ujemna korelacja liniowa."
      ]
    },
    {
      "cell_type": "code",
      "metadata": {
        "id": "nPl5hxdDc-vp",
        "outputId": "6804c272-26d6-4aa4-f033-53551e20ec19"
      },
      "source": [
        "np.corrcoef(df['Close'])"
      ],
      "execution_count": null,
      "outputs": [
        {
          "output_type": "execute_result",
          "data": {
            "text/plain": [
              "1.0"
            ]
          },
          "metadata": {
            "tags": []
          },
          "execution_count": 13
        }
      ]
    },
    {
      "cell_type": "markdown",
      "metadata": {
        "id": "T8vbfHRrc-vp"
      },
      "source": [
        "# b) Analiza rozkładu - skośność i kurtoza"
      ]
    },
    {
      "cell_type": "code",
      "metadata": {
        "id": "4Q9qNxhOZKvc",
        "outputId": "cb04bdb6-5cb2-45a4-b139-68e866284548"
      },
      "source": [
        "kurt = kurtosis(np_array)\n",
        "kurt"
      ],
      "execution_count": null,
      "outputs": [
        {
          "output_type": "execute_result",
          "data": {
            "text/plain": [
              "17.209995137726445"
            ]
          },
          "metadata": {
            "tags": []
          },
          "execution_count": 14
        }
      ]
    },
    {
      "cell_type": "markdown",
      "metadata": {
        "id": "jCMhMcsHc-vp"
      },
      "source": [
        "Kurtoza jest dodatnia co oznacza, że wartości cechy bardziej skoncentrowane niż przy rozkładzie normalnym.\n",
        "Takie zjawiosko zwane jest leptokuriozą.\n",
        "W porównaniu z rozkładem normalnym rozkłady stóp zwrotu z giełdy mają wyższy szczyt funkcji gęstoci oraz szerokie końce. \n",
        "Oznacza to, że występuje bardzo duże prawdopodobieństwo zmian nietypowych. Dodatkowo wartości są jednocześnie bardziej skupione wokół swojej średniej. \n"
      ]
    },
    {
      "cell_type": "code",
      "metadata": {
        "id": "moZQJq_gc-vp",
        "outputId": "c776dd5b-64ab-4ab7-87c9-fb1873facc58"
      },
      "source": [
        "skrew = skew(np_array)\n",
        "skrew"
      ],
      "execution_count": null,
      "outputs": [
        {
          "output_type": "execute_result",
          "data": {
            "text/plain": [
              "-0.37358372158016406"
            ]
          },
          "metadata": {
            "tags": []
          },
          "execution_count": 15
        }
      ]
    },
    {
      "cell_type": "markdown",
      "metadata": {
        "id": "CVAiNxHvc-vw"
      },
      "source": [
        "Skośność < 0 świadczy o lewostronnej asymetrii układu.\n",
        "Asymetria lewostronna mówi nam, że większa część populacji przyjmuje wartości powyżej przeciętnej."
      ]
    },
    {
      "cell_type": "markdown",
      "metadata": {
        "id": "P62eCebObVii"
      },
      "source": [
        "# c) Obliczenie funkcji autokorelacji."
      ]
    },
    {
      "cell_type": "code",
      "metadata": {
        "id": "ITm5pvFebXax",
        "outputId": "fe489ec4-f52a-450e-b489-2075ad16c788"
      },
      "source": [
        "ret = df['return'].dropna()\n",
        "fig1 = plt.plot(ret)\n",
        "fig2 = tsaplots.plot_acf(ret, lags=30)\n",
        "plt.show()"
      ],
      "execution_count": null,
      "outputs": [
        {
          "output_type": "display_data",
          "data": {
            "image/png": "[encoded data removed]",
            "text/plain": [
              "<Figure size 432x288 with 1 Axes>"
            ]
          },
          "metadata": {
            "tags": [],
            "needs_background": "light"
          }
        },
        {
          "output_type": "display_data",
          "data": {
            "image/png": "[encoded data removed]",
            "text/plain": [
              "<Figure size 432x288 with 1 Axes>"
            ]
          },
          "metadata": {
            "tags": [],
            "needs_background": "light"
          }
        }
      ]
    },
    {
      "cell_type": "markdown",
      "metadata": {
        "id": "xju_YXL_c-vw"
      },
      "source": [
        "Autokorelacja informuje nas, w jakim stopniu podane wartości są istotnie powiązane z obserwacjami poprzednio obserwowanymi przy danym przesunięciu w czasie.\n"
      ]
    },
    {
      "cell_type": "markdown",
      "metadata": {
        "id": "G6QxlyYBc-vw"
      },
      "source": [
        "# d) Policzenie funkcji autokorelacji dla zmienności sygnału"
      ]
    },
    {
      "cell_type": "code",
      "metadata": {
        "id": "-NGj7gh8c-vw",
        "outputId": "21631e30-7020-4a5e-f7c3-458f9eb67049"
      },
      "source": [
        "def acorr(op_samples, mean, separation, norm = 1):\n",
        "    return ((op_samples[:op_samples.size-separation] - mean)*(op_samples[separation:]- mean)).ravel().mean() / norm\n",
        "\n",
        "acorr(df['return'].dropna(), mean, 0)  "
      ],
      "execution_count": null,
      "outputs": [
        {
          "output_type": "execute_result",
          "data": {
            "text/plain": [
              "0.00020432178363813963"
            ]
          },
          "metadata": {
            "tags": []
          },
          "execution_count": 17
        }
      ]
    },
    {
      "cell_type": "code",
      "metadata": {
        "id": "kW2sAVcwc-vw",
        "outputId": "f1210cc6-952a-496f-9722-d759a319d621"
      },
      "source": [
        "fig1 = plt.plot(abs(ret))\n",
        "fig2 = tsaplots.plot_acf(abs(ret), lags=50)\n",
        "plt.show()"
      ],
      "execution_count": null,
      "outputs": [
        {
          "output_type": "display_data",
          "data": {
            "image/png": "[encoded data removed]",
            "text/plain": [
              "<Figure size 432x288 with 1 Axes>"
            ]
          },
          "metadata": {
            "tags": [],
            "needs_background": "light"
          }
        },
        {
          "output_type": "display_data",
          "data": {
            "image/png": "[encoded data removed]",
            "text/plain": [
              "<Figure size 432x288 with 1 Axes>"
            ]
          },
          "metadata": {
            "tags": [],
            "needs_background": "light"
          }
        }
      ]
    },
    {
      "cell_type": "markdown",
      "metadata": {
        "id": "Q_b4V-lZhUi6"
      },
      "source": [
        "# Rozkład normalny\n"
      ]
    },
    {
      "cell_type": "code",
      "metadata": {
        "id": "zK6Kv-E8hUi6",
        "outputId": "b1517f67-2dbe-4a79-e261-7a1240500cd7"
      },
      "source": [
        "samplesN = np.random.normal(size=100000)\n",
        "ret = samplesN\n",
        "fig1 = plt.plot(ret)"
      ],
      "execution_count": null,
      "outputs": [
        {
          "output_type": "display_data",
          "data": {
            "image/png": "[encoded data removed]",
            "text/plain": [
              "<Figure size 432x288 with 1 Axes>"
            ]
          },
          "metadata": {
            "tags": [],
            "needs_background": "light"
          }
        }
      ]
    },
    {
      "cell_type": "markdown",
      "metadata": {
        "id": "kOT69uOHhUi6"
      },
      "source": [
        "# a) Policzenie rozkładu danych"
      ]
    },
    {
      "cell_type": "code",
      "metadata": {
        "id": "FQvT7CcFhUi6",
        "outputId": "31c11cae-9950-4033-fa4f-050455ccf14e"
      },
      "source": [
        "np.corrcoef(samplesN)"
      ],
      "execution_count": null,
      "outputs": [
        {
          "output_type": "execute_result",
          "data": {
            "text/plain": [
              "1.0"
            ]
          },
          "metadata": {
            "tags": []
          },
          "execution_count": 20
        }
      ]
    },
    {
      "cell_type": "code",
      "metadata": {
        "id": "OkRofWc2hUi6",
        "outputId": "851abb59-6e07-4f18-b77f-5b606a6d1185"
      },
      "source": [
        "samplesN.mean()\n",
        "mean"
      ],
      "execution_count": null,
      "outputs": [
        {
          "output_type": "execute_result",
          "data": {
            "text/plain": [
              "0.00021353435809598175"
            ]
          },
          "metadata": {
            "tags": []
          },
          "execution_count": 21
        }
      ]
    },
    {
      "cell_type": "code",
      "metadata": {
        "id": "Le_5_xlAhUi6",
        "outputId": "b1390bfa-97c0-4ef4-ad94-0b9c4d963f40"
      },
      "source": [
        "samplesN.var()"
      ],
      "execution_count": null,
      "outputs": [
        {
          "output_type": "execute_result",
          "data": {
            "text/plain": [
              "0.997718412712906"
            ]
          },
          "metadata": {
            "tags": []
          },
          "execution_count": 22
        }
      ]
    },
    {
      "cell_type": "markdown",
      "metadata": {
        "id": "ehC8hVR5hUi7"
      },
      "source": [
        "# b) Analiza rozkładu - skośność i kurtoza"
      ]
    },
    {
      "cell_type": "code",
      "metadata": {
        "id": "c0ifnJKXhUi7",
        "outputId": "ecf32fa0-a618-424a-8718-9fa0b58c2136"
      },
      "source": [
        "skrew = skew(samplesN)\n",
        "skrew"
      ],
      "execution_count": null,
      "outputs": [
        {
          "output_type": "execute_result",
          "data": {
            "text/plain": [
              "0.0013531058862041026"
            ]
          },
          "metadata": {
            "tags": []
          },
          "execution_count": 23
        }
      ]
    },
    {
      "cell_type": "markdown",
      "metadata": {
        "id": "4COyuUJchUi7"
      },
      "source": [
        "Skośność > 0 świadczy o delikatnej prawostronnej asymetrii układu.\n",
        "Asymetria prawostronnej mówi nam, że większa część populacji przyjmuje wartości poniżej przeciętnej."
      ]
    },
    {
      "cell_type": "code",
      "metadata": {
        "id": "kCCYeM4MhUi7",
        "outputId": "91752ca7-ab5e-4112-f0f8-8ece7e051234"
      },
      "source": [
        "kurt = kurtosis(samplesN)\n",
        "kurt"
      ],
      "execution_count": null,
      "outputs": [
        {
          "output_type": "execute_result",
          "data": {
            "text/plain": [
              "-0.02878157839201556"
            ]
          },
          "metadata": {
            "tags": []
          },
          "execution_count": 24
        }
      ]
    },
    {
      "cell_type": "markdown",
      "metadata": {
        "id": "vrhrnDUdhUi7"
      },
      "source": [
        "Kurtoza > 0 świadczy o nieznacznej prawostronnej asymetrii układu. Kurtoza jest dodatnia co oznacza, że wartości cechy bardziej skoncentrowane niz przy rozkładzie normalnym.\n",
        "Takie zjawiosko zwane jest leptokuriozą. W tym przypadku jest to cecha losowo wygenerowanych próbek."
      ]
    },
    {
      "cell_type": "markdown",
      "metadata": {
        "id": "0AnktJixhUi7"
      },
      "source": [
        "# c) Obliczenie funkcji autokorelacji."
      ]
    },
    {
      "cell_type": "code",
      "metadata": {
        "id": "0_Jd0po-hUi7",
        "outputId": "9fe3ca3d-c666-44e7-de4e-903d4f4a5d48"
      },
      "source": [
        "fig1 = plt.plot(ret)\n",
        "fig2 = tsaplots.plot_acf(ret, lags=50)\n",
        "plt.show()"
      ],
      "execution_count": null,
      "outputs": [
        {
          "output_type": "display_data",
          "data": {
            "image/png": "[encoded data removed]",
            "text/plain": [
              "<Figure size 432x288 with 1 Axes>"
            ]
          },
          "metadata": {
            "tags": [],
            "needs_background": "light"
          }
        },
        {
          "output_type": "display_data",
          "data": {
            "image/png": "[encoded data removed]",
            "text/plain": [
              "<Figure size 432x288 with 1 Axes>"
            ]
          },
          "metadata": {
            "tags": [],
            "needs_background": "light"
          }
        }
      ]
    },
    {
      "cell_type": "markdown",
      "metadata": {
        "id": "SIYXYEwqhUi8"
      },
      "source": [
        "Autokorelacja dla rozkładu normalnego powinna wynosić 0 i dla losowo wygenerowanych próbek oscyluje w jego okolicach, \n",
        "co dobrze widoczne jest na powyższym wykresie."
      ]
    },
    {
      "cell_type": "markdown",
      "metadata": {
        "id": "bZnWnaLjhUi8"
      },
      "source": [
        "# d) Policzenie funkcji autokorelacji dla zmienności sygnału"
      ]
    },
    {
      "cell_type": "code",
      "metadata": {
        "id": "6p3bc8cAhUi8",
        "outputId": "e69fdd6d-645c-4e97-cc55-74111452a9b8"
      },
      "source": [
        "def acorr(op_samples, mean, separation, norm = 1):\n",
        "    return ((op_samples[:op_samples.size-separation] - mean)*(op_samples[separation:]- mean)).ravel().mean() / norm\n",
        "\n",
        "acorr(df['return'].dropna(), mean, 0)  "
      ],
      "execution_count": null,
      "outputs": [
        {
          "output_type": "execute_result",
          "data": {
            "text/plain": [
              "0.00020432178363813963"
            ]
          },
          "metadata": {
            "tags": []
          },
          "execution_count": 26
        }
      ]
    },
    {
      "cell_type": "code",
      "metadata": {
        "id": "1TWgxrQXhUi8",
        "outputId": "f13f85a6-1faf-4384-c5e1-485fe9eb2b2e"
      },
      "source": [
        "fig1 = plt.plot(abs(ret))\n",
        "fig2 = tsaplots.plot_acf(abs(ret), lags=50)\n",
        "plt.show()"
      ],
      "execution_count": null,
      "outputs": [
        {
          "output_type": "display_data",
          "data": {
            "image/png": "[encoded data removed]",
            "text/plain": [
              "<Figure size 432x288 with 1 Axes>"
            ]
          },
          "metadata": {
            "tags": [],
            "needs_background": "light"
          }
        },
        {
          "output_type": "display_data",
          "data": {
            "image/png": "[encoded data removed]",
            "text/plain": [
              "<Figure size 432x288 with 1 Axes>"
            ]
          },
          "metadata": {
            "tags": [],
            "needs_background": "light"
          }
        }
      ]
    },
    {
      "cell_type": "markdown",
      "metadata": {
        "id": "FedTp9rbhUi8"
      },
      "source": [
        "Autokorelacja dla modułu rozkładu normalnego powinna wynosić 0 i dla losowo wygenerowanych próbek oscyluje w jego okolicach, \n",
        "co dobrze widoczne jest na powyższym wykresie."
      ]
    }
  ]
}